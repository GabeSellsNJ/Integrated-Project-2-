{
 "cells": [
  {
   "cell_type": "code",
   "execution_count": 1,
   "metadata": {},
   "outputs": [],
   "source": [
    "import pandas as pd\n",
    "from sklearn.feature_extraction.text import TfidfVectorizer\n",
    "from sklearn.linear_model import LogisticRegression\n",
    "from sklearn.model_selection import train_test_split\n",
    "from sklearn.metrics import accuracy_score\n"
   ]
  },
  {
   "cell_type": "code",
   "execution_count": 2,
   "metadata": {},
   "outputs": [
    {
     "name": "stdout",
     "output_type": "stream",
     "text": [
      "Validation accuracy: 0.8349753694581281\n"
     ]
    }
   ],
   "source": [
    "\n",
    "\n",
    "# Load the training data\n",
    "train_data = pd.read_csv('moved_imdb_reviews_small_lemm_train.tsv', sep='\\t')\n",
    "\n",
    "# Split the data into training and validation sets\n",
    "train_texts, val_texts, train_labels, val_labels = train_test_split(train_data['review_lemm'], train_data['pos'], test_size=0.2, random_state=42)\n",
    "\n",
    "# Convert the lemmatized reviews into feature vectors\n",
    "vectorizer = TfidfVectorizer()\n",
    "train_features = vectorizer.fit_transform(train_texts)\n",
    "val_features = vectorizer.transform(val_texts)\n",
    "\n",
    "# Train a logistic regression model\n",
    "clf = LogisticRegression()\n",
    "clf.fit(train_features, train_labels)\n",
    "\n",
    "# Evaluate the performance of the model on the validation set\n",
    "val_preds = clf.predict(val_features)\n",
    "val_acc = accuracy_score(val_labels, val_preds)\n",
    "print('Validation accuracy:', val_acc)\n",
    "\n",
    "# Load the test data\n",
    "test_data = pd.read_csv('moved_imdb_reviews_small_lemm_test.tsv', sep='\\t')\n",
    "\n",
    "# Convert the lemmatized reviews in the test set into feature vectors\n",
    "test_features = vectorizer.transform(test_data['review_lemm'])\n",
    "\n",
    "# Use the trained model to predict the tonality of the test reviews\n",
    "test_preds = clf.predict(test_features)\n",
    "\n",
    "# Save the predicted tonalities to the 'pos' column of the\n",
    "test_data['pos'] = test_preds\n",
    "test_data.to_csv('predictions', index=False)\n"
   ]
  }
 ],
 "metadata": {
  "kernelspec": {
   "display_name": "base",
   "language": "python",
   "name": "python3"
  },
  "language_info": {
   "codemirror_mode": {
    "name": "ipython",
    "version": 3
   },
   "file_extension": ".py",
   "mimetype": "text/x-python",
   "name": "python",
   "nbconvert_exporter": "python",
   "pygments_lexer": "ipython3",
   "version": "3.9.13"
  },
  "orig_nbformat": 4
 },
 "nbformat": 4,
 "nbformat_minor": 2
}
